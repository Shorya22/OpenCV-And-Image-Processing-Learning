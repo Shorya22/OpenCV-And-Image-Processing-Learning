{
 "cells": [
  {
   "cell_type": "code",
   "execution_count": 1,
   "metadata": {},
   "outputs": [],
   "source": [
    "import cv2\n",
    "import numpy as np"
   ]
  },
  {
   "cell_type": "markdown",
   "metadata": {},
   "source": [
    "# White Image"
   ]
  },
  {
   "cell_type": "code",
   "execution_count": 6,
   "metadata": {},
   "outputs": [],
   "source": [
    "# Create a new image with all pixels set to white (255)\n",
    "new_img = np.ones(shape=(500,500,3), dtype=np.uint8) * 255\n",
    "\n",
    "# Display the new image in a window titled \"sample\"\n",
    "cv2.imshow(\"sample\", new_img)\n",
    "\n",
    "# Wait for a key press (blocking call)\n",
    "cv2.waitKey(0)\n",
    "\n",
    "# Close all OpenCV windows\n",
    "cv2.destroyAllWindows()"
   ]
  },
  {
   "cell_type": "markdown",
   "metadata": {},
   "source": [
    "# Black Image"
   ]
  },
  {
   "cell_type": "code",
   "execution_count": 7,
   "metadata": {},
   "outputs": [],
   "source": [
    "# Create a new image with all pixels set to black (0), but then multiply by 255, \n",
    "# which would still result in an image with all pixels set to 0 (black)\n",
    "new_img = np.zeros(shape=(500,500,3), dtype=np.uint8) * 255\n",
    "\n",
    "# Display the new image in a window titled \"sample\"\n",
    "cv2.imshow(\"sample\", new_img)\n",
    "\n",
    "# Wait for a key press (blocking call)\n",
    "cv2.waitKey(0)\n",
    "\n",
    "# Close all OpenCV windows\n",
    "cv2.destroyAllWindows()"
   ]
  }
 ],
 "metadata": {
  "kernelspec": {
   "display_name": "Python 3",
   "language": "python",
   "name": "python3"
  },
  "language_info": {
   "codemirror_mode": {
    "name": "ipython",
    "version": 3
   },
   "file_extension": ".py",
   "mimetype": "text/x-python",
   "name": "python",
   "nbconvert_exporter": "python",
   "pygments_lexer": "ipython3",
   "version": "3.11.5"
  }
 },
 "nbformat": 4,
 "nbformat_minor": 2
}
