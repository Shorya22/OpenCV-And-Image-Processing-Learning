{
 "cells": [
  {
   "cell_type": "code",
   "execution_count": 1,
   "metadata": {},
   "outputs": [],
   "source": [
    "import cv2 \n",
    "import numpy as np"
   ]
  },
  {
   "cell_type": "markdown",
   "metadata": {},
   "source": [
    "# Flip Image:"
   ]
  },
  {
   "cell_type": "code",
   "execution_count": 17,
   "metadata": {},
   "outputs": [],
   "source": [
    "# Read an image from a file named \"Sample_image.jpeg\"\n",
    "img = cv2.imread(\"Sample_image.jpeg\")\n",
    "# Resize the image to a width of 500 pixels and a height of 500 pixels\n",
    "img = cv2.resize(img, (500, 500))\n",
    "\n",
    "# Create a horizontally flipped copy of the image (flip code 1)\n",
    "img1 = cv2.flip(img, 1)\n",
    "# Create a vertically flipped copy of the image (flip code 0)\n",
    "img2 = cv2.flip(img, 0)\n",
    "# Create a flipped copy of the image along both axes (flip code -1)\n",
    "img3 = cv2.flip(img, -1)\n",
    "\n",
    "# Display the horizontally flipped image in a window titled \"sample1\"\n",
    "cv2.imshow(\"sample1\", img1)\n",
    "# Display the vertically flipped image in a window titled \"sample2\"\n",
    "cv2.imshow(\"sample2\", img2)\n",
    "# Display the flipped image along both axes in a window titled \"sample3\"\n",
    "cv2.imshow(\"sample3\", img3)\n",
    "# Wait for a key press (blocking call)\n",
    "cv2.waitKey(0)\n",
    "# Close all OpenCV windows\n",
    "cv2.destroyAllWindows()"
   ]
  },
  {
   "cell_type": "markdown",
   "metadata": {},
   "source": [
    "# Image Rotation:"
   ]
  },
  {
   "cell_type": "code",
   "execution_count": 29,
   "metadata": {},
   "outputs": [],
   "source": [
    "# Read an image from a file named \"Sample_image.jpeg\"\n",
    "img = cv2.imread(\"Sample_image.jpeg\")\n",
    "# Resize the image to a width of 500 pixels and a height of 500 pixels\n",
    "img = cv2.resize(img, (500, 500))\n",
    "\n",
    "# Rotate the image by 0 degrees (no rotation)\n",
    "img1 = cv2.rotate(img, 0)\n",
    "# Rotate the image by 90 degrees clockwise\n",
    "img2 = cv2.rotate(img, 1)\n",
    "# Rotate the image by 180 degrees\n",
    "img3 = cv2.rotate(img, 2)\n",
    "\n",
    "# Display the original image (no rotation) in a window titled \"sample1\"\n",
    "cv2.imshow(\"sample1\", img1)\n",
    "# Display the 90 degrees clockwise rotated image in a window titled \"sample2\"\n",
    "cv2.imshow(\"sample2\", img2)\n",
    "# Display the 180 degrees rotated image in a window titled \"sample3\"\n",
    "cv2.imshow(\"sample3\", img3)\n",
    "# Wait for a key press (blocking call)\n",
    "cv2.waitKey(0)\n",
    "# Close all OpenCV windows\n",
    "cv2.destroyAllWindows()"
   ]
  }
 ],
 "metadata": {
  "kernelspec": {
   "display_name": "Python 3",
   "language": "python",
   "name": "python3"
  },
  "language_info": {
   "codemirror_mode": {
    "name": "ipython",
    "version": 3
   },
   "file_extension": ".py",
   "mimetype": "text/x-python",
   "name": "python",
   "nbconvert_exporter": "python",
   "pygments_lexer": "ipython3",
   "version": "3.11.5"
  }
 },
 "nbformat": 4,
 "nbformat_minor": 2
}
