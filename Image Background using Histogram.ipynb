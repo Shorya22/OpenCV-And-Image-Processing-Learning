{
 "cells": [
  {
   "cell_type": "code",
   "execution_count": 1,
   "metadata": {},
   "outputs": [],
   "source": [
    "import cv2 \n",
    "import numpy as np"
   ]
  },
  {
   "cell_type": "code",
   "execution_count": 27,
   "metadata": {},
   "outputs": [],
   "source": [
    "org_img= cv2.imread(r\"D:\\Computer Vision & Projects\\OpenCV And Image Processing Learning\\chroma_img.png\")\n",
    "org_img= cv2.resize(org_img,(700,500))\n",
    "org_hsv= cv2.cvtColor(org_img,cv2.COLOR_BGR2HSV)\n",
    "\n",
    "roi_img=  cv2.imread(r\"D:\\Computer Vision & Projects\\chroma_green.png\")\n",
    "roi_hsv= cv2.cvtColor(roi_img,cv2.COLOR_BGR2HSV)\n",
    "\n",
    "hist= cv2.calcHist([roi_hsv],[0,1],None,[180,256],[0,180,0,256])\n",
    "\n",
    "mask= cv2.calcBackProject([org_hsv],[0,1],hist,[0,180,0,256],1)\n",
    "\n",
    "new_img=cv2.bitwise_or(org_img,org_img,mask=mask)\n",
    "\n",
    "ker= cv2.getStructuringElement(cv2.MORPH_ELLIPSE,(10,10))\n",
    "mask= cv2.filter2D(mask,-1,ker)\n",
    "_,thr= cv2.threshold(mask,120,255,cv2.THRESH_BINARY)\n",
    "mask= cv2.merge((mask,mask,mask))\n",
    "\n",
    "res= cv2.bitwise_or(org_img,mask)\n",
    "\n",
    "\n",
    "cv2.imshow(\"org_img\",org_img)\n",
    "cv2.imshow(\"org_hsv\",org_hsv)\n",
    "cv2.imshow(\"roi_hsv\",roi_hsv)\n",
    "cv2.imshow(\"transform\",new_img)\n",
    "cv2.imshow(\"final\",res)\n",
    "cv2.waitKey(0)\n",
    "cv2.destroyAllWindows()"
   ]
  },
  {
   "cell_type": "code",
   "execution_count": null,
   "metadata": {},
   "outputs": [],
   "source": []
  }
 ],
 "metadata": {
  "kernelspec": {
   "display_name": "Python 3",
   "language": "python",
   "name": "python3"
  },
  "language_info": {
   "codemirror_mode": {
    "name": "ipython",
    "version": 3
   },
   "file_extension": ".py",
   "mimetype": "text/x-python",
   "name": "python",
   "nbconvert_exporter": "python",
   "pygments_lexer": "ipython3",
   "version": "3.11.5"
  }
 },
 "nbformat": 4,
 "nbformat_minor": 2
}
