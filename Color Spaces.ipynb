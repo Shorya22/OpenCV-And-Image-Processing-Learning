{
 "cells": [
  {
   "cell_type": "code",
   "execution_count": 1,
   "metadata": {},
   "outputs": [],
   "source": [
    "import cv2\n",
    "import numpy as np"
   ]
  },
  {
   "cell_type": "code",
   "execution_count": 2,
   "metadata": {},
   "outputs": [],
   "source": [
    "def my_fun(x):\n",
    "    pass"
   ]
  },
  {
   "cell_type": "code",
   "execution_count": 3,
   "metadata": {},
   "outputs": [],
   "source": [
    "\n",
    "cap = cv2.VideoCapture(0)\n",
    "\n",
    "cv2.namedWindow(\"sample\")\n",
    "cv2.createTrackbar('lb', \"sample\", 0, 255, my_fun)\n",
    "cv2.createTrackbar('lg', \"sample\", 0, 255, my_fun)\n",
    "cv2.createTrackbar('lr', \"sample\", 0, 255, my_fun)\n",
    "\n",
    "cv2.createTrackbar('ub', \"sample\", 255, 255, my_fun)\n",
    "cv2.createTrackbar('ug', \"sample\", 255, 255, my_fun)\n",
    "cv2.createTrackbar('ur', \"sample\", 255, 255, my_fun)\n",
    "\n",
    "while True:\n",
    "    _, frame = cap.read()\n",
    "    img = cv2.resize(frame, (400, 300))\n",
    "    hsv_img = cv2.cvtColor(img, cv2.COLOR_BGR2HSV)\n",
    "\n",
    "    Lb = cv2.getTrackbarPos(\"lb\", \"sample\")\n",
    "    Lg = cv2.getTrackbarPos(\"lg\", \"sample\")\n",
    "    Lr = cv2.getTrackbarPos(\"lr\", \"sample\")\n",
    "\n",
    "    ub = cv2.getTrackbarPos(\"ub\", \"sample\")\n",
    "    ug = cv2.getTrackbarPos(\"ug\", \"sample\")\n",
    "    ur = cv2.getTrackbarPos(\"ur\", \"sample\")\n",
    "\n",
    "    lo = np.array([Lb, Lg, Lr])\n",
    "    up = np.array([ub, ug, ur])\n",
    "\n",
    "    masks = cv2.inRange(hsv_img, lo, up)\n",
    "\n",
    "    res = cv2.bitwise_and(img, img, mask=masks)\n",
    "\n",
    "    cv2.imshow(\"res\", res)\n",
    "    cv2.imshow(\"mask\", masks)\n",
    "    cv2.imshow(\"hsv\", hsv_img)\n",
    "    cv2.imshow(\"sample\", img)\n",
    "\n",
    "    if cv2.waitKey(25) & 0xff == ord(\"q\"):\n",
    "        break\n",
    "\n",
    "cap.release()\n",
    "cv2.destroyAllWindows()"
   ]
  },
  {
   "cell_type": "code",
   "execution_count": null,
   "metadata": {},
   "outputs": [],
   "source": []
  }
 ],
 "metadata": {
  "kernelspec": {
   "display_name": "myenv",
   "language": "python",
   "name": "python3"
  },
  "language_info": {
   "codemirror_mode": {
    "name": "ipython",
    "version": 3
   },
   "file_extension": ".py",
   "mimetype": "text/x-python",
   "name": "python",
   "nbconvert_exporter": "python",
   "pygments_lexer": "ipython3",
   "version": "3.11.5"
  }
 },
 "nbformat": 4,
 "nbformat_minor": 2
}
