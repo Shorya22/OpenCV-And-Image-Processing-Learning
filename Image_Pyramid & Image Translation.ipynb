{
 "cells": [
  {
   "cell_type": "code",
   "execution_count": 1,
   "metadata": {},
   "outputs": [],
   "source": [
    "import cv2\n",
    "import numpy as np\n",
    "import matplotlib.pyplot as plt"
   ]
  },
  {
   "cell_type": "code",
   "execution_count": 12,
   "metadata": {},
   "outputs": [],
   "source": [
    "img= cv2.imread(\"Sample_image.jpeg\")\n",
    "new_img= cv2.pyrUp(img)\n",
    "new_img1= cv2.pyrUp(new_img)\n",
    "new_img2= cv2.pyrUp(new_img1)\n",
    "cv2.imshow('sample1',new_img1)\n",
    "cv2.imshow('sample2',new_img)\n",
    "cv2.imshow('sample3',img)\n",
    "cv2.waitKey(0)\n",
    "cv2.destroyAllWindows()"
   ]
  },
  {
   "cell_type": "code",
   "execution_count": 14,
   "metadata": {},
   "outputs": [],
   "source": [
    "img= cv2.imread(\"Sample_image.jpeg\")\n",
    "new_img= cv2.pyrDown(img)\n",
    "new_img1= cv2.pyrDown(new_img)\n",
    "new_img2= cv2.pyrDown(new_img1)\n",
    "cv2.imshow('sample1',new_img1)\n",
    "cv2.imshow('sample2',new_img)\n",
    "cv2.imshow('sample3',img)\n",
    "cv2.waitKey(0)\n",
    "cv2.destroyAllWindows()"
   ]
  },
  {
   "cell_type": "markdown",
   "metadata": {},
   "source": [
    "## Image Translation:"
   ]
  },
  {
   "cell_type": "code",
   "execution_count": 60,
   "metadata": {},
   "outputs": [],
   "source": [
    "img= cv2.imread(\"Sample_image.jpeg\")\n",
    "img= cv2.resize(img,(500,500))\n",
    "\n",
    "# m will be 2x3 matrix\n",
    "#  m[0,0]= for scaling x dir\n",
    "#  m[0,1]= for shrearing x dir\n",
    "#  m[0,2]= for tx translation value for shift in x dir and +ve value shift in right and -ve for left side.\n",
    "#  m[1,0]= for scaling y dir\n",
    "#  m[1,1]= for shearing y dir\n",
    "#  m[1,2]= for ty translation value for shift in y dir and +ve\n",
    "\n",
    "m= np.float32([[1,0,50],\n",
    "             [0,1,100]])\n",
    "\n",
    "new_img= cv2.warpAffine(img,m,(500,500))\n",
    "\n",
    "cv2.imshow(\"sample\",new_img)\n",
    "cv2.waitKey(0)\n",
    "cv2.destroyAllWindows()\n"
   ]
  },
  {
   "cell_type": "code",
   "execution_count": null,
   "metadata": {},
   "outputs": [],
   "source": []
  }
 ],
 "metadata": {
  "kernelspec": {
   "display_name": "Python 3",
   "language": "python",
   "name": "python3"
  },
  "language_info": {
   "codemirror_mode": {
    "name": "ipython",
    "version": 3
   },
   "file_extension": ".py",
   "mimetype": "text/x-python",
   "name": "python",
   "nbconvert_exporter": "python",
   "pygments_lexer": "ipython3",
   "version": "3.11.5"
  }
 },
 "nbformat": 4,
 "nbformat_minor": 2
}
