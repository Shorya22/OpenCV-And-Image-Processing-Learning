{
 "cells": [
  {
   "cell_type": "code",
   "execution_count": 1,
   "metadata": {},
   "outputs": [],
   "source": [
    "import cv2 # Import OpenCV Lib"
   ]
  },
  {
   "cell_type": "markdown",
   "metadata": {},
   "source": [
    "## Read Images:"
   ]
  },
  {
   "cell_type": "code",
   "execution_count": 2,
   "metadata": {},
   "outputs": [],
   "source": [
    "# Read an image from a file named \"Sample_image.jpeg\" located at the specified path\n",
    "img = cv2.imread(r\"D:\\Computer Vision & Projects\\OpenCV And Image Processing Learning\\Sample_image.jpeg\")\n",
    "\n",
    "# Display the image in a window named \"Sample\"\n",
    "cv2.imshow(\"Sample\", img)\n",
    "\n",
    "# Wait for a key press\n",
    "cv2.waitKey(0)\n",
    "\n",
    "# Close all OpenCV windows\n",
    "cv2.destroyAllWindows()"
   ]
  },
  {
   "cell_type": "code",
   "execution_count": 3,
   "metadata": {},
   "outputs": [],
   "source": [
    "# Read an image from a file named \"Sample_image_2.jpeg\" located at the specified path\n",
    "img = cv2.imread(r\"D:\\Computer Vision & Projects\\OpenCV And Image Processing Learning\\Sample_image_2.jpeg\")\n",
    "\n",
    "# Display the image in a window named \"sample\"\n",
    "cv2.imshow(\"sample\", img)\n",
    "\n",
    "# Wait for a key press (the window will not close until a key is pressed)\n",
    "cv2.waitKey(0)  # The argument 0 means the window will wait indefinitely for a key press\n",
    "\n",
    "# Close all OpenCV windows\n",
    "cv2.destroyAllWindows()\n",
    "\n",
    "# Note: The image is 2400x2400 pixels, which may be too large to display clearly on the screen.\n",
    "# To fix this, we can resize the image to a smaller size, which we will learn how to do later."
   ]
  },
  {
   "cell_type": "markdown",
   "metadata": {},
   "source": [
    "## Write Images:"
   ]
  },
  {
   "cell_type": "code",
   "execution_count": 4,
   "metadata": {},
   "outputs": [
    {
     "data": {
      "text/plain": [
       "True"
      ]
     },
     "execution_count": 4,
     "metadata": {},
     "output_type": "execute_result"
    }
   ],
   "source": [
    "# Read an image from a file named \"Sample_image_2.jpeg\" located at the specified path\n",
    "img = cv2.imread(r\"D:\\Computer Vision & Projects\\OpenCV And Image Processing Learning\\Sample_image_2.jpeg\")\n",
    "\n",
    "# Save the image to a file named \"write_img.jpg\"\n",
    "cv2.imwrite(\"write_img.jpg\", img=img)\n",
    "\n",
    "# Note: The `imwrite` function saves the image to the specified file path.\n",
    "# The first argument is the file path, and the second argument is the image data."
   ]
  },
  {
   "cell_type": "markdown",
   "metadata": {},
   "source": [
    "## Reading Videos:"
   ]
  },
  {
   "cell_type": "code",
   "execution_count": 5,
   "metadata": {},
   "outputs": [],
   "source": [
    "# Create a VideoCapture object to read the video file \"Sample_Video.mp4\"\n",
    "cap = cv2.VideoCapture(\"Sample_Video.mp4\")\n",
    "\n",
    "# Loop indefinitely to capture and display video frames\n",
    "while True:\n",
    "    # Read a frame from the video file\n",
    "    ret, frame = cap.read()\n",
    "    \n",
    "    # Display the frame in a window named \"sample\"\n",
    "    cv2.imshow(\"sample\", frame)\n",
    "    \n",
    "    # Wait for a key press (the window will not close until a key is pressed)\n",
    "    # If the key pressed is \"q\", exit the loop\n",
    "    if cv2.waitKey(10) & 0xFF == ord(\"q\"):\n",
    "        break\n",
    "\n",
    "# Release the VideoCapture object\n",
    "cap.release()\n",
    "\n",
    "# Close all OpenCV windows\n",
    "cv2.destroyAllWindows()\n",
    "\n",
    "# Note: This code captures and displays video frames from the file \"Sample_Video.mp4\".\n",
    "# The video will continue to play until the user presses the \"q\" key."
   ]
  },
  {
   "cell_type": "code",
   "execution_count": null,
   "metadata": {},
   "outputs": [],
   "source": []
  }
 ],
 "metadata": {
  "kernelspec": {
   "display_name": "Python 3",
   "language": "python",
   "name": "python3"
  },
  "language_info": {
   "codemirror_mode": {
    "name": "ipython",
    "version": 3
   },
   "file_extension": ".py",
   "mimetype": "text/x-python",
   "name": "python",
   "nbconvert_exporter": "python",
   "pygments_lexer": "ipython3",
   "version": "3.11.5"
  }
 },
 "nbformat": 4,
 "nbformat_minor": 2
}
