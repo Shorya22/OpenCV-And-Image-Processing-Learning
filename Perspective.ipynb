{
 "cells": [
  {
   "cell_type": "code",
   "execution_count": 1,
   "metadata": {},
   "outputs": [],
   "source": [
    "import cv2 \n",
    "import numpy as np"
   ]
  },
  {
   "cell_type": "code",
   "execution_count": 4,
   "metadata": {},
   "outputs": [
    {
     "name": "stdout",
     "output_type": "stream",
     "text": [
      "(500, 600, 3)\n"
     ]
    }
   ],
   "source": [
    "# Read the image file \"tilt4.jpg\" using OpenCV\n",
    "img = cv2.imread(\"tilt4.jpg\")\n",
    "\n",
    "# Resize the image to a width of 600 pixels and a height of 500 pixels\n",
    "img = cv2.resize(img, (600, 500))\n",
    "\n",
    "# Print the shape of the resized image (should be (600, 500, 3))\n",
    "print(img.shape)\n",
    "\n",
    "# Define the source points for the perspective transformation\n",
    "# These points are the coordinates of the corners of the original image\n",
    "src1 = np.float32([[68, 197], [169, 226], [114, 287], [227, 341]])\n",
    "\n",
    "w,h= img.shape[1],img.shape[0]\n",
    "\n",
    "# Define the destination points for the perspective transformation\n",
    "# These points are the coordinates of the corners of the transformed image\n",
    "dst1 = np.float32([[0, 0], [w, 0], [0, h], [w, h]])\n",
    "\n",
    "# Calculate the perspective transformation matrix using OpenCV\n",
    "m = cv2.getPerspectiveTransform(src1, dst1)\n",
    "\n",
    "# Apply the perspective transformation to the original image using OpenCV\n",
    "new_img = cv2.warpPerspective(img, m, (600, 500))\n",
    "\n",
    "# Display the transformed image\n",
    "cv2.imshow(\"sample\", new_img)\n",
    "\n",
    "# Display the original image for comparison\n",
    "cv2.imshow(\"sample1\", img)\n",
    "\n",
    "# Wait for a key press and then close all OpenCV windows\n",
    "cv2.waitKey(0)\n",
    "cv2.destroyAllWindows()"
   ]
  },
  {
   "cell_type": "code",
   "execution_count": null,
   "metadata": {},
   "outputs": [],
   "source": []
  }
 ],
 "metadata": {
  "kernelspec": {
   "display_name": "Python 3",
   "language": "python",
   "name": "python3"
  },
  "language_info": {
   "codemirror_mode": {
    "name": "ipython",
    "version": 3
   },
   "file_extension": ".py",
   "mimetype": "text/x-python",
   "name": "python",
   "nbconvert_exporter": "python",
   "pygments_lexer": "ipython3",
   "version": "3.11.5"
  }
 },
 "nbformat": 4,
 "nbformat_minor": 2
}
