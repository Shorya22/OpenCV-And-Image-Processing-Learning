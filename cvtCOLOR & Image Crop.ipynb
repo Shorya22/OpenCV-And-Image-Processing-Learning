{
 "cells": [
  {
   "cell_type": "code",
   "execution_count": 1,
   "metadata": {},
   "outputs": [],
   "source": [
    "import cv2\n",
    "import numpy as np"
   ]
  },
  {
   "cell_type": "markdown",
   "metadata": {},
   "source": [
    "# Convert RGB image into Gray:"
   ]
  },
  {
   "cell_type": "code",
   "execution_count": 2,
   "metadata": {},
   "outputs": [],
   "source": [
    "# Read an image file named \"Sample_image.jpeg\" into a variable named 'img'\n",
    "img = cv2.imread(\"Sample_image.jpeg\")\n",
    "\n",
    "# Convert the color image to grayscale using the BGR2GRAY conversion code\n",
    "gray_img = cv2.cvtColor(img, code=cv2.COLOR_BGR2GRAY)\n",
    "\n",
    "# Display the grayscale image in a window named \"sample\"\n",
    "cv2.imshow(\"sample\", gray_img)\n",
    "\n",
    "# Wait for a key press (any key) before continuing\n",
    "cv2.waitKey(0)\n",
    "\n",
    "# Close all OpenCV windows\n",
    "cv2.destroyAllWindows()"
   ]
  },
  {
   "cell_type": "markdown",
   "metadata": {},
   "source": [
    "## Image Crop:"
   ]
  },
  {
   "cell_type": "code",
   "execution_count": 11,
   "metadata": {},
   "outputs": [],
   "source": [
    "# Read an image file named \"Sample_image.jpeg\" into a variable named 'img'\n",
    "img = cv2.imread(\"Sample_image.jpeg\")\n",
    "\n",
    "# Resize the image to a fixed size of 500x500 pixels\n",
    "img = cv2.resize(img, (500, 500))\n",
    "\n",
    "# Crop a region of interest (ROI) from the resized image\n",
    "# The ROI is defined by the top-left corner (190, 140) and the bottom-right corner (366, 250)\n",
    "crop_img = img[190:366, 140:250]\n",
    "\n",
    "# Display the cropped image in a window named \"sample\"\n",
    "cv2.imshow(\"sample\", crop_img)\n",
    "\n",
    "# Wait for a key press (any key) before continuing\n",
    "cv2.waitKey(0)\n",
    "\n",
    "# Close all OpenCV windows\n",
    "cv2.destroyAllWindows()"
   ]
  }
 ],
 "metadata": {
  "kernelspec": {
   "display_name": "Python 3",
   "language": "python",
   "name": "python3"
  },
  "language_info": {
   "codemirror_mode": {
    "name": "ipython",
    "version": 3
   },
   "file_extension": ".py",
   "mimetype": "text/x-python",
   "name": "python",
   "nbconvert_exporter": "python",
   "pygments_lexer": "ipython3",
   "version": "3.11.5"
  }
 },
 "nbformat": 4,
 "nbformat_minor": 2
}
