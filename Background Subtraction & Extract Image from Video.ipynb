{
 "cells": [
  {
   "cell_type": "code",
   "execution_count": 3,
   "metadata": {},
   "outputs": [],
   "source": [
    "import cv2\n",
    "import numpy as np"
   ]
  },
  {
   "cell_type": "code",
   "execution_count": 2,
   "metadata": {},
   "outputs": [],
   "source": [
    "# Create a VideoCapture object to read from the default camera (index 0)\n",
    "cap = cv2.VideoCapture(0)\n",
    "\n",
    "# Create a background subtractor object using the MOG2 algorithm\n",
    "m = cv2.createBackgroundSubtractorMOG2()\n",
    "\n",
    "# Loop indefinitely until the user presses 'q' to quit\n",
    "while True:\n",
    "    # Read a frame from the camera\n",
    "    ret, frame = cap.read()\n",
    "    \n",
    "    # Resize the frame to a fixed size of 300x300 pixels\n",
    "    frame = cv2.resize(frame, (300, 300))\n",
    "    \n",
    "    # Apply the background subtraction algorithm to the frame\n",
    "    new_frame = m.apply(frame)\n",
    "    \n",
    "    # Display the resulting foreground mask in a window named \"frame\"\n",
    "    cv2.imshow(\"frame\", new_frame)\n",
    "    \n",
    "    # Check for the 'q' key press to exit the loop\n",
    "    if cv2.waitKey(25) & 0xFF == ord(\"q\"):\n",
    "        break\n",
    "\n",
    "# Release the VideoCapture object and close all OpenCV windows\n",
    "cap.release()\n",
    "cv2.destroyAllWindows()"
   ]
  },
  {
   "cell_type": "markdown",
   "metadata": {},
   "source": [
    "## Extract Images From Video:"
   ]
  },
  {
   "cell_type": "code",
   "execution_count": 11,
   "metadata": {},
   "outputs": [],
   "source": [
    "# Create a VideoCapture object to read the video file \"Sample_Video.mp4\"\n",
    "cap = cv2.VideoCapture(\"Sample_Video.mp4\")\n",
    "\n",
    "# Initialize a counter to keep track of the frame number\n",
    "c = 0\n",
    "\n",
    "# Loop indefinitely until the user presses 'q' to quit\n",
    "while True:\n",
    "    # Read a frame from the video file\n",
    "    ret, frame = cap.read()\n",
    "    \n",
    "    # Resize the frame to a fixed size of 500x500 pixels\n",
    "    frame = cv2.resize(frame, (500, 500))\n",
    "    \n",
    "    # Create a file name for the extracted image, with a incrementing counter\n",
    "    file_name = r\"D:\\Computer Vision & Projects\\OpenCV And Image Processing Learning\\extract_img\" + \"\\org_img\" + str(c) + \".jpg\"\n",
    "    \n",
    "    # Write the frame to a JPEG file with the generated file name\n",
    "    cv2.imwrite(file_name, frame)\n",
    "    \n",
    "    # Display the frame in a window named \"frame\"\n",
    "    cv2.imshow(\"frame\", frame)\n",
    "    \n",
    "    # Increment the frame counter\n",
    "    c = c + 1\n",
    "    \n",
    "    # Check for the 'q' key press to exit the loop\n",
    "    if cv2.waitKey(25) & 0xFF == ord(\"q\"):\n",
    "        break\n",
    "\n",
    "# Release the VideoCapture object and close all OpenCV windows\n",
    "cap.release()\n",
    "cv2.destroyAllWindows()"
   ]
  },
  {
   "cell_type": "code",
   "execution_count": null,
   "metadata": {},
   "outputs": [],
   "source": []
  }
 ],
 "metadata": {
  "kernelspec": {
   "display_name": "Python 3",
   "language": "python",
   "name": "python3"
  },
  "language_info": {
   "codemirror_mode": {
    "name": "ipython",
    "version": 3
   },
   "file_extension": ".py",
   "mimetype": "text/x-python",
   "name": "python",
   "nbconvert_exporter": "python",
   "pygments_lexer": "ipython3",
   "version": "3.11.5"
  }
 },
 "nbformat": 4,
 "nbformat_minor": 2
}
