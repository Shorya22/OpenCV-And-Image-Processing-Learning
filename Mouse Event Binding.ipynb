{
 "cells": [
  {
   "cell_type": "code",
   "execution_count": 1,
   "metadata": {},
   "outputs": [],
   "source": [
    "import cv2\n",
    "import numpy as np"
   ]
  },
  {
   "cell_type": "code",
   "execution_count": 2,
   "metadata": {},
   "outputs": [],
   "source": [
    "def my_fn(event,x,y,f,p):\n",
    "    \n",
    "    if event == cv2.EVENT_LBUTTONDOWN:\n",
    "        cv2.circle(img=img,center=(x,y),radius=5,color=(0,0,255),thickness=2)\n",
    "    elif event== cv2.EVENT_RBUTTONDOWN:\n",
    "        cv2.rectangle(img=img,pt1=(x,y),pt2=(x+20,y+20),color=(255,0,0),thickness=2)\n",
    "                "
   ]
  },
  {
   "cell_type": "code",
   "execution_count": 7,
   "metadata": {},
   "outputs": [],
   "source": [
    "cv2.namedWindow(\"win\")\n",
    "img= np.ones((500,700,3),dtype=np.uint8)*255\n",
    "cv2.setMouseCallback(\"win\",my_fn)\n",
    "\n",
    "while True:\n",
    "\n",
    "    cv2.imshow(\"win\",img)\n",
    "    if cv2.waitKey(25) & 0xff == ord(\"q\"):\n",
    "        break\n",
    "\n",
    "cv2.destroyAllWindows()"
   ]
  },
  {
   "cell_type": "markdown",
   "metadata": {},
   "source": [
    "## Mouse Callback + Perspective Transform:"
   ]
  },
  {
   "cell_type": "code",
   "execution_count": 5,
   "metadata": {},
   "outputs": [],
   "source": [
    "def transformation(img):\n",
    "    \n",
    "    points= []\n",
    "\n",
    "    def pt_fn(event,x,y,f,p):\n",
    "        if event==cv2.EVENT_LBUTTONDOWN:\n",
    "            cv2.circle(img=img,center=(x,y),radius=4,color=(0,0,255),thickness=-1)\n",
    "            points.append((x,y))\n",
    "    \n",
    "    cv2.namedWindow(\"win\")\n",
    "    img= cv2.imread(img)\n",
    "    img= cv2.resize(img,(600,400))\n",
    "    cv2.setMouseCallback(\"win\",pt_fn)\n",
    "\n",
    "    while True:\n",
    "        cv2.imshow(\"win\",img)\n",
    "        \n",
    "        if len(points)==4:\n",
    "            break\n",
    "        if cv2.waitKey(25) & 0xff==ord(\"q\"):\n",
    "            break\n",
    "    cv2.destroyAllWindows()\n",
    "    \n",
    "    src1= np.float32([points[0],points[1],points[2],points[3]])\n",
    "    dst1= np.float32([[0,0],[img.shape[1],0],[0,img.shape[0]],[img.shape[1],img.shape[0]]])\n",
    "    \n",
    "    m=cv2.getPerspectiveTransform(src=src1,dst=dst1)\n",
    "    new_img= cv2.warpPerspective(img,m,(img.shape[1],img.shape[0]))\n",
    "    \n",
    "    return new_img\n",
    "    \n",
    "    "
   ]
  },
  {
   "cell_type": "code",
   "execution_count": 6,
   "metadata": {},
   "outputs": [],
   "source": [
    "# Load the image\n",
    "img_path = \"tilt4.jpg\"\n",
    "img = cv2.imread(img_path)\n",
    "\n",
    "# Perform transformation\n",
    "new_img = transformation(img_path)\n",
    "\n",
    "# Display both images\n",
    "cv2.imshow(\"Original Image\", img)\n",
    "cv2.imshow(\"Transformed Image\", new_img)\n",
    "cv2.waitKey(0)\n",
    "cv2.destroyAllWindows()"
   ]
  },
  {
   "cell_type": "code",
   "execution_count": null,
   "metadata": {},
   "outputs": [],
   "source": []
  }
 ],
 "metadata": {
  "kernelspec": {
   "display_name": "Python 3",
   "language": "python",
   "name": "python3"
  },
  "language_info": {
   "codemirror_mode": {
    "name": "ipython",
    "version": 3
   },
   "file_extension": ".py",
   "mimetype": "text/x-python",
   "name": "python",
   "nbconvert_exporter": "python",
   "pygments_lexer": "ipython3",
   "version": "3.11.5"
  }
 },
 "nbformat": 4,
 "nbformat_minor": 2
}
