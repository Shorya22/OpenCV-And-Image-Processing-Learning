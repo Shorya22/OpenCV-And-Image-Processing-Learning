{
 "cells": [
  {
   "cell_type": "code",
   "execution_count": 2,
   "metadata": {},
   "outputs": [],
   "source": [
    "import cv2\n",
    "import numpy as np\n",
    "import matplotlib.pyplot as plt"
   ]
  },
  {
   "cell_type": "code",
   "execution_count": 11,
   "metadata": {},
   "outputs": [],
   "source": [
    "img= cv2.imread(\"sample_img4.jpg\")\n",
    "img= cv2.resize(img, (600,500))\n",
    "\n",
    "_,thr= cv2.threshold(img,90,255,cv2.THRESH_BINARY)\n",
    "\n",
    "cv2.imshow(\"sample\",thr)\n",
    "cv2.waitKey(0)\n",
    "cv2.destroyAllWindows()"
   ]
  },
  {
   "cell_type": "code",
   "execution_count": 13,
   "metadata": {},
   "outputs": [],
   "source": [
    "img= cv2.imread(\"sample_img4.jpg\")\n",
    "img= cv2.resize(img, (600,500))\n",
    "\n",
    "_,thr= cv2.threshold(img,90,255,cv2.THRESH_BINARY+cv2.THRESH_BINARY_INV)\n",
    "\n",
    "cv2.imshow(\"sample\",thr)\n",
    "cv2.waitKey(0)\n",
    "cv2.destroyAllWindows()"
   ]
  },
  {
   "cell_type": "code",
   "execution_count": 16,
   "metadata": {},
   "outputs": [],
   "source": [
    "img= cv2.imread(\"sample_img4.jpg\")\n",
    "img= cv2.resize(img, (600,500))\n",
    "\n",
    "_,thr= cv2.threshold(img,90,255,cv2.THRESH_BINARY+cv2.THRESH_TOZERO)\n",
    "\n",
    "cv2.imshow(\"sample\",thr)\n",
    "cv2.waitKey(0)\n",
    "cv2.destroyAllWindows()"
   ]
  },
  {
   "cell_type": "code",
   "execution_count": 17,
   "metadata": {},
   "outputs": [],
   "source": [
    "img= cv2.imread(\"sample_img4.jpg\")\n",
    "img= cv2.resize(img, (600,500))\n",
    "\n",
    "_,thr= cv2.threshold(img,90,255,cv2.THRESH_BINARY+cv2.THRESH_TRUNC)\n",
    "\n",
    "cv2.imshow(\"sample\",thr)\n",
    "cv2.waitKey(0)\n",
    "cv2.destroyAllWindows()"
   ]
  },
  {
   "cell_type": "code",
   "execution_count": 20,
   "metadata": {},
   "outputs": [],
   "source": [
    "img= cv2.imread(\"sample_img4.jpg\")\n",
    "img= cv2.resize(img, (600,500))\n",
    "\n",
    "\n",
    "_,thr= cv2.threshold(img,90,255,cv2.THRESH_BINARY+cv2.THRESH_TOZERO_INV)\n",
    "\n",
    "cv2.imshow(\"sample\",thr)\n",
    "cv2.waitKey(0)\n",
    "cv2.destroyAllWindows()"
   ]
  },
  {
   "cell_type": "code",
   "execution_count": 31,
   "metadata": {},
   "outputs": [],
   "source": [
    "img= cv2.imread(\"sample_img4.jpg\")\n",
    "img = cv2.cvtColor(img, cv2.COLOR_BGR2GRAY)\n",
    "img= cv2.resize(img, (600,500))\n",
    "\n",
    "_, thr = cv2.threshold(img,0, 255, cv2.THRESH_BINARY + cv2.THRESH_OTSU)\n",
    "\n",
    "cv2.imshow(\"sample\",thr)\n",
    "cv2.waitKey(0)\n",
    "cv2.destroyAllWindows()"
   ]
  },
  {
   "cell_type": "code",
   "execution_count": null,
   "metadata": {},
   "outputs": [],
   "source": []
  }
 ],
 "metadata": {
  "kernelspec": {
   "display_name": "Python 3",
   "language": "python",
   "name": "python3"
  },
  "language_info": {
   "codemirror_mode": {
    "name": "ipython",
    "version": 3
   },
   "file_extension": ".py",
   "mimetype": "text/x-python",
   "name": "python",
   "nbconvert_exporter": "python",
   "pygments_lexer": "ipython3",
   "version": "3.11.5"
  }
 },
 "nbformat": 4,
 "nbformat_minor": 2
}
